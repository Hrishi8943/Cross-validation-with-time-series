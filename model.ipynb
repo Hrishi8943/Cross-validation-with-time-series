{
 "cells": [
  {
   "cell_type": "code",
   "execution_count": 152,
   "id": "482076d4",
   "metadata": {},
   "outputs": [],
   "source": [
    "import pandas as pd \n",
    "import numpy as np\n",
    "import matplotlib.pyplot as plt\n",
    "import seaborn as sns"
   ]
  },
  {
   "cell_type": "code",
   "execution_count": 153,
   "id": "9d1a41ab",
   "metadata": {},
   "outputs": [
    {
     "name": "stdout",
     "output_type": "stream",
     "text": [
      "<class 'pandas.core.frame.DataFrame'>\n",
      "RangeIndex: 7560 entries, 0 to 7559\n",
      "Data columns (total 12 columns):\n",
      " #   Column     Non-Null Count  Dtype  \n",
      "---  ------     --------------  -----  \n",
      " 0   id         6480 non-null   float64\n",
      " 1   date       6480 non-null   object \n",
      " 2   city       6480 non-null   object \n",
      " 3   lat        6429 non-null   float64\n",
      " 4   long       6434 non-null   float64\n",
      " 5   pop        6480 non-null   float64\n",
      " 6   shop       6480 non-null   object \n",
      " 7   brand      6480 non-null   object \n",
      " 8   container  6464 non-null   object \n",
      " 9   capacity   6465 non-null   object \n",
      " 10  price      6480 non-null   float64\n",
      " 11  quantity   6480 non-null   float64\n",
      "dtypes: float64(6), object(6)\n",
      "memory usage: 708.9+ KB\n"
     ]
    }
   ],
   "source": [
    "df_train = pd.read_csv('E:\\\\machine learning\\\\Nested CV for time series\\\\train.csv')\n",
    "df_train.head()\n",
    "df_train.tail()\n",
    "df_train.info()"
   ]
  },
  {
   "cell_type": "code",
   "execution_count": 154,
   "id": "5585134e",
   "metadata": {},
   "outputs": [
    {
     "name": "stdout",
     "output_type": "stream",
     "text": [
      "0    500\n",
      "1    NaN\n",
      "2    330\n",
      "3    500\n",
      "4    330\n",
      "Name: capacity, dtype: object\n"
     ]
    }
   ],
   "source": [
    "res = df_train['capacity'].str.extract(r'(?i)(?P<Amount>\\d+(?:\\.\\d+)?)\\s?(?P<Unit>[CM]?L|LTR)\\b')\n",
    "res.Unit = res.Unit.str.lower()\n",
    "df_train['capacity'] = res['Amount']\n",
    "print(df_train.head()['capacity'])"
   ]
  },
  {
   "cell_type": "code",
   "execution_count": 155,
   "id": "c4959c1b",
   "metadata": {},
   "outputs": [
    {
     "name": "stdout",
     "output_type": "stream",
     "text": [
      "<class 'pandas.core.frame.DataFrame'>\n",
      "RangeIndex: 7560 entries, 0 to 7559\n",
      "Data columns (total 12 columns):\n",
      " #   Column     Non-Null Count  Dtype         \n",
      "---  ------     --------------  -----         \n",
      " 0   id         6480 non-null   float64       \n",
      " 1   date       6480 non-null   datetime64[ns]\n",
      " 2   city       6480 non-null   object        \n",
      " 3   lat        6429 non-null   float64       \n",
      " 4   long       6434 non-null   float64       \n",
      " 5   pop        6480 non-null   float64       \n",
      " 6   shop       6480 non-null   object        \n",
      " 7   brand      6480 non-null   object        \n",
      " 8   container  6464 non-null   object        \n",
      " 9   capacity   4308 non-null   float64       \n",
      " 10  price      6480 non-null   float64       \n",
      " 11  quantity   6480 non-null   float64       \n",
      "dtypes: datetime64[ns](1), float64(7), object(4)\n",
      "memory usage: 708.9+ KB\n"
     ]
    },
    {
     "data": {
      "text/html": [
       "<div>\n",
       "<style scoped>\n",
       "    .dataframe tbody tr th:only-of-type {\n",
       "        vertical-align: middle;\n",
       "    }\n",
       "\n",
       "    .dataframe tbody tr th {\n",
       "        vertical-align: top;\n",
       "    }\n",
       "\n",
       "    .dataframe thead th {\n",
       "        text-align: right;\n",
       "    }\n",
       "</style>\n",
       "<table border=\"1\" class=\"dataframe\">\n",
       "  <thead>\n",
       "    <tr style=\"text-align: right;\">\n",
       "      <th></th>\n",
       "      <th>id</th>\n",
       "      <th>date</th>\n",
       "      <th>city</th>\n",
       "      <th>lat</th>\n",
       "      <th>long</th>\n",
       "      <th>pop</th>\n",
       "      <th>shop</th>\n",
       "      <th>brand</th>\n",
       "      <th>container</th>\n",
       "      <th>capacity</th>\n",
       "      <th>price</th>\n",
       "      <th>quantity</th>\n",
       "    </tr>\n",
       "  </thead>\n",
       "  <tbody>\n",
       "    <tr>\n",
       "      <th>0</th>\n",
       "      <td>0.0</td>\n",
       "      <td>2012-01-31</td>\n",
       "      <td>Athens</td>\n",
       "      <td>37.97945</td>\n",
       "      <td>23.71622</td>\n",
       "      <td>672130.0</td>\n",
       "      <td>shop_1</td>\n",
       "      <td>kinder-cola</td>\n",
       "      <td>glass</td>\n",
       "      <td>500.0</td>\n",
       "      <td>0.96</td>\n",
       "      <td>13280.0</td>\n",
       "    </tr>\n",
       "    <tr>\n",
       "      <th>1</th>\n",
       "      <td>1.0</td>\n",
       "      <td>2012-01-31</td>\n",
       "      <td>Athens</td>\n",
       "      <td>37.97945</td>\n",
       "      <td>23.71622</td>\n",
       "      <td>672130.0</td>\n",
       "      <td>shop_1</td>\n",
       "      <td>kinder-cola</td>\n",
       "      <td>plastic</td>\n",
       "      <td>NaN</td>\n",
       "      <td>2.86</td>\n",
       "      <td>6727.0</td>\n",
       "    </tr>\n",
       "    <tr>\n",
       "      <th>2</th>\n",
       "      <td>2.0</td>\n",
       "      <td>2012-01-31</td>\n",
       "      <td>Athens</td>\n",
       "      <td>37.97945</td>\n",
       "      <td>23.71622</td>\n",
       "      <td>672130.0</td>\n",
       "      <td>shop_1</td>\n",
       "      <td>kinder-cola</td>\n",
       "      <td>can</td>\n",
       "      <td>330.0</td>\n",
       "      <td>0.87</td>\n",
       "      <td>9848.0</td>\n",
       "    </tr>\n",
       "    <tr>\n",
       "      <th>3</th>\n",
       "      <td>3.0</td>\n",
       "      <td>2012-01-31</td>\n",
       "      <td>Athens</td>\n",
       "      <td>37.97945</td>\n",
       "      <td>23.71622</td>\n",
       "      <td>672130.0</td>\n",
       "      <td>shop_1</td>\n",
       "      <td>adult-cola</td>\n",
       "      <td>glass</td>\n",
       "      <td>500.0</td>\n",
       "      <td>1.00</td>\n",
       "      <td>20050.0</td>\n",
       "    </tr>\n",
       "    <tr>\n",
       "      <th>4</th>\n",
       "      <td>4.0</td>\n",
       "      <td>2012-01-31</td>\n",
       "      <td>Athens</td>\n",
       "      <td>37.97945</td>\n",
       "      <td>23.71622</td>\n",
       "      <td>672130.0</td>\n",
       "      <td>shop_1</td>\n",
       "      <td>adult-cola</td>\n",
       "      <td>can</td>\n",
       "      <td>330.0</td>\n",
       "      <td>0.39</td>\n",
       "      <td>25696.0</td>\n",
       "    </tr>\n",
       "  </tbody>\n",
       "</table>\n",
       "</div>"
      ],
      "text/plain": [
       "    id       date    city       lat      long       pop    shop        brand  \\\n",
       "0  0.0 2012-01-31  Athens  37.97945  23.71622  672130.0  shop_1  kinder-cola   \n",
       "1  1.0 2012-01-31  Athens  37.97945  23.71622  672130.0  shop_1  kinder-cola   \n",
       "2  2.0 2012-01-31  Athens  37.97945  23.71622  672130.0  shop_1  kinder-cola   \n",
       "3  3.0 2012-01-31  Athens  37.97945  23.71622  672130.0  shop_1   adult-cola   \n",
       "4  4.0 2012-01-31  Athens  37.97945  23.71622  672130.0  shop_1   adult-cola   \n",
       "\n",
       "  container  capacity  price  quantity  \n",
       "0     glass     500.0   0.96   13280.0  \n",
       "1   plastic       NaN   2.86    6727.0  \n",
       "2       can     330.0   0.87    9848.0  \n",
       "3     glass     500.0   1.00   20050.0  \n",
       "4       can     330.0   0.39   25696.0  "
      ]
     },
     "execution_count": 155,
     "metadata": {},
     "output_type": "execute_result"
    }
   ],
   "source": [
    "df_train['lat'] = df_train['lat'].astype(float, errors = 'raise')\n",
    "df_train['long'] = df_train['long'].astype(float, errors = 'raise')\n",
    "df_train['pop'] = df_train['pop'].astype(float, errors = 'raise')\n",
    "df_train['capacity'] = df_train['capacity'].astype(float, errors = 'raise')\n",
    "df_train['date'] = pd.to_datetime(df_train['date'])\n",
    "df_train.info()\n",
    "df_train.head()"
   ]
  },
  {
   "cell_type": "code",
   "execution_count": 156,
   "id": "4e7e4852",
   "metadata": {},
   "outputs": [
    {
     "name": "stdout",
     "output_type": "stream",
     "text": [
      "<class 'pandas.core.frame.DataFrame'>\n",
      "Int64Index: 6480 entries, 0 to 6479\n",
      "Data columns (total 12 columns):\n",
      " #   Column     Non-Null Count  Dtype         \n",
      "---  ------     --------------  -----         \n",
      " 0   id         6480 non-null   float64       \n",
      " 1   date       6480 non-null   datetime64[ns]\n",
      " 2   city       6480 non-null   object        \n",
      " 3   lat        6429 non-null   float64       \n",
      " 4   long       6434 non-null   float64       \n",
      " 5   pop        6480 non-null   float64       \n",
      " 6   shop       6480 non-null   object        \n",
      " 7   brand      6480 non-null   object        \n",
      " 8   container  6464 non-null   object        \n",
      " 9   capacity   4308 non-null   float64       \n",
      " 10  price      6480 non-null   float64       \n",
      " 11  quantity   6480 non-null   float64       \n",
      "dtypes: datetime64[ns](1), float64(7), object(4)\n",
      "memory usage: 658.1+ KB\n"
     ]
    }
   ],
   "source": [
    "\n",
    "df_train  = df_train.dropna(how = 'all')\n",
    "df_train.info()"
   ]
  },
  {
   "cell_type": "code",
   "execution_count": 157,
   "id": "6e7dfbbc",
   "metadata": {},
   "outputs": [
    {
     "data": {
      "text/plain": [
       "id              0\n",
       "date            0\n",
       "city            0\n",
       "lat            51\n",
       "long           46\n",
       "pop             0\n",
       "shop            0\n",
       "brand           0\n",
       "container      16\n",
       "capacity     2172\n",
       "price           0\n",
       "quantity        0\n",
       "dtype: int64"
      ]
     },
     "execution_count": 157,
     "metadata": {},
     "output_type": "execute_result"
    }
   ],
   "source": [
    "df_train.isnull().sum()"
   ]
  },
  {
   "cell_type": "code",
   "execution_count": 158,
   "id": "8e007014",
   "metadata": {},
   "outputs": [],
   "source": [
    "df_train['lat'].fillna(df_train['lat'].mean,inplace=True)\n",
    "df_train['long'].fillna(df_train['long'].mean,inplace=True)\n",
    "df_train['container'].fillna(df_train['container'].mean,inplace=True)\n",
    "df_train['capacity'].fillna(df_train['capacity'].mean,inplace=True)"
   ]
  },
  {
   "cell_type": "code",
   "execution_count": 159,
   "id": "35da732f",
   "metadata": {},
   "outputs": [
    {
     "data": {
      "text/plain": [
       "id           0\n",
       "date         0\n",
       "city         0\n",
       "lat          0\n",
       "long         0\n",
       "pop          0\n",
       "shop         0\n",
       "brand        0\n",
       "container    0\n",
       "capacity     0\n",
       "price        0\n",
       "quantity     0\n",
       "dtype: int64"
      ]
     },
     "execution_count": 159,
     "metadata": {},
     "output_type": "execute_result"
    }
   ],
   "source": [
    "df_train.isnull().sum()"
   ]
  },
  {
   "cell_type": "code",
   "execution_count": 160,
   "id": "984586a0",
   "metadata": {},
   "outputs": [
    {
     "name": "stdout",
     "output_type": "stream",
     "text": [
      "<class 'pandas.core.frame.DataFrame'>\n",
      "Int64Index: 6480 entries, 0 to 6479\n",
      "Data columns (total 12 columns):\n",
      " #   Column     Non-Null Count  Dtype         \n",
      "---  ------     --------------  -----         \n",
      " 0   id         6480 non-null   float64       \n",
      " 1   date       6480 non-null   datetime64[ns]\n",
      " 2   city       6480 non-null   object        \n",
      " 3   lat        6480 non-null   object        \n",
      " 4   long       6480 non-null   object        \n",
      " 5   pop        6480 non-null   float64       \n",
      " 6   shop       6480 non-null   object        \n",
      " 7   brand      6480 non-null   object        \n",
      " 8   container  6480 non-null   object        \n",
      " 9   capacity   6480 non-null   object        \n",
      " 10  price      6480 non-null   float64       \n",
      " 11  quantity   6480 non-null   float64       \n",
      "dtypes: datetime64[ns](1), float64(4), object(7)\n",
      "memory usage: 658.1+ KB\n"
     ]
    }
   ],
   "source": [
    "df_train.info()"
   ]
  },
  {
   "cell_type": "code",
   "execution_count": 161,
   "id": "c51e82be",
   "metadata": {},
   "outputs": [
    {
     "data": {
      "text/plain": [
       "<AxesSubplot:>"
      ]
     },
     "execution_count": 161,
     "metadata": {},
     "output_type": "execute_result"
    },
    {
     "data": {
      "image/png": "[encoded data removed]",
      "text/plain": [
       "<Figure size 432x288 with 1 Axes>"
      ]
     },
     "metadata": {
      "needs_background": "light"
     },
     "output_type": "display_data"
    }
   ],
   "source": [
    "df_train.boxplot()"
   ]
  },
  {
   "cell_type": "code",
   "execution_count": 162,
   "id": "103b0d00",
   "metadata": {},
   "outputs": [],
   "source": [
    "q1 = np.quantile(df_train['quantity'], 0.25)\n",
    "q2 = np.quantile(df_train['quantity'], 0.50)\n",
    "q3 = np.quantile(df_train['quantity'], 0.75)\n",
    "IQR = q3 - q1\n",
    "upperwhishker = q3 + (IQR * 0.5)\n",
    "\n",
    "\n",
    "df_train['quantity'] = np.where(df_train['quantity']>upperwhishker,upperwhishker,df_train['quantity'])\n",
    "\n",
    "q1 = np.quantile(df_train['price'], 0.25)\n",
    "q2 = np.quantile(df_train['price'], 0.50)\n",
    "q3 = np.quantile(df_train['price'], 0.75)\n",
    "IQR = q3 - q1\n",
    "upperwhishker = q3 + (IQR * 0.5)\n",
    "\n",
    "\n",
    "\n",
    "df_train['price'] = np.where(df_train['price']>upperwhishker,upperwhishker,df_train['price'])"
   ]
  },
  {
   "cell_type": "code",
   "execution_count": 163,
   "id": "0bad41a5",
   "metadata": {
    "scrolled": true
   },
   "outputs": [
    {
     "data": {
      "text/plain": [
       "<AxesSubplot:>"
      ]
     },
     "execution_count": 163,
     "metadata": {},
     "output_type": "execute_result"
    },
    {
     "data": {
      "image/png": "[encoded data removed]",
      "text/plain": [
       "<Figure size 432x288 with 1 Axes>"
      ]
     },
     "metadata": {
      "needs_background": "light"
     },
     "output_type": "display_data"
    }
   ],
   "source": [
    "df_train.boxplot()"
   ]
  },
  {
   "cell_type": "code",
   "execution_count": 164,
   "id": "744d34dd",
   "metadata": {},
   "outputs": [],
   "source": [
    "df_city = pd.get_dummies(df_train['city'])\n",
    "df_shop = pd.get_dummies(df_train['shop'])\n",
    "df_brand = pd.get_dummies(df_train['brand'])"
   ]
  },
  {
   "cell_type": "code",
   "execution_count": 165,
   "id": "31040e68",
   "metadata": {
    "scrolled": false
   },
   "outputs": [
    {
     "data": {
      "text/html": [
       "<div>\n",
       "<style scoped>\n",
       "    .dataframe tbody tr th:only-of-type {\n",
       "        vertical-align: middle;\n",
       "    }\n",
       "\n",
       "    .dataframe tbody tr th {\n",
       "        vertical-align: top;\n",
       "    }\n",
       "\n",
       "    .dataframe thead th {\n",
       "        text-align: right;\n",
       "    }\n",
       "</style>\n",
       "<table border=\"1\" class=\"dataframe\">\n",
       "  <thead>\n",
       "    <tr style=\"text-align: right;\">\n",
       "      <th></th>\n",
       "      <th>adult-cola</th>\n",
       "      <th>gazoza</th>\n",
       "      <th>kinder-cola</th>\n",
       "      <th>lemon-boost</th>\n",
       "      <th>orange-power</th>\n",
       "    </tr>\n",
       "  </thead>\n",
       "  <tbody>\n",
       "    <tr>\n",
       "      <th>0</th>\n",
       "      <td>0</td>\n",
       "      <td>0</td>\n",
       "      <td>1</td>\n",
       "      <td>0</td>\n",
       "      <td>0</td>\n",
       "    </tr>\n",
       "    <tr>\n",
       "      <th>1</th>\n",
       "      <td>0</td>\n",
       "      <td>0</td>\n",
       "      <td>1</td>\n",
       "      <td>0</td>\n",
       "      <td>0</td>\n",
       "    </tr>\n",
       "    <tr>\n",
       "      <th>2</th>\n",
       "      <td>0</td>\n",
       "      <td>0</td>\n",
       "      <td>1</td>\n",
       "      <td>0</td>\n",
       "      <td>0</td>\n",
       "    </tr>\n",
       "    <tr>\n",
       "      <th>3</th>\n",
       "      <td>1</td>\n",
       "      <td>0</td>\n",
       "      <td>0</td>\n",
       "      <td>0</td>\n",
       "      <td>0</td>\n",
       "    </tr>\n",
       "    <tr>\n",
       "      <th>4</th>\n",
       "      <td>1</td>\n",
       "      <td>0</td>\n",
       "      <td>0</td>\n",
       "      <td>0</td>\n",
       "      <td>0</td>\n",
       "    </tr>\n",
       "    <tr>\n",
       "      <th>5</th>\n",
       "      <td>0</td>\n",
       "      <td>0</td>\n",
       "      <td>0</td>\n",
       "      <td>0</td>\n",
       "      <td>1</td>\n",
       "    </tr>\n",
       "    <tr>\n",
       "      <th>6</th>\n",
       "      <td>0</td>\n",
       "      <td>0</td>\n",
       "      <td>0</td>\n",
       "      <td>0</td>\n",
       "      <td>1</td>\n",
       "    </tr>\n",
       "    <tr>\n",
       "      <th>7</th>\n",
       "      <td>0</td>\n",
       "      <td>1</td>\n",
       "      <td>0</td>\n",
       "      <td>0</td>\n",
       "      <td>0</td>\n",
       "    </tr>\n",
       "    <tr>\n",
       "      <th>8</th>\n",
       "      <td>0</td>\n",
       "      <td>0</td>\n",
       "      <td>0</td>\n",
       "      <td>1</td>\n",
       "      <td>0</td>\n",
       "    </tr>\n",
       "    <tr>\n",
       "      <th>9</th>\n",
       "      <td>0</td>\n",
       "      <td>0</td>\n",
       "      <td>0</td>\n",
       "      <td>1</td>\n",
       "      <td>0</td>\n",
       "    </tr>\n",
       "  </tbody>\n",
       "</table>\n",
       "</div>"
      ],
      "text/plain": [
       "   adult-cola  gazoza  kinder-cola  lemon-boost  orange-power\n",
       "0           0       0            1            0             0\n",
       "1           0       0            1            0             0\n",
       "2           0       0            1            0             0\n",
       "3           1       0            0            0             0\n",
       "4           1       0            0            0             0\n",
       "5           0       0            0            0             1\n",
       "6           0       0            0            0             1\n",
       "7           0       1            0            0             0\n",
       "8           0       0            0            1             0\n",
       "9           0       0            0            1             0"
      ]
     },
     "execution_count": 165,
     "metadata": {},
     "output_type": "execute_result"
    }
   ],
   "source": [
    "df_brand.head(10)"
   ]
  },
  {
   "cell_type": "code",
   "execution_count": 166,
   "id": "67272fc3",
   "metadata": {},
   "outputs": [
    {
     "data": {
      "text/html": [
       "<div>\n",
       "<style scoped>\n",
       "    .dataframe tbody tr th:only-of-type {\n",
       "        vertical-align: middle;\n",
       "    }\n",
       "\n",
       "    .dataframe tbody tr th {\n",
       "        vertical-align: top;\n",
       "    }\n",
       "\n",
       "    .dataframe thead th {\n",
       "        text-align: right;\n",
       "    }\n",
       "</style>\n",
       "<table border=\"1\" class=\"dataframe\">\n",
       "  <thead>\n",
       "    <tr style=\"text-align: right;\">\n",
       "      <th></th>\n",
       "      <th>Athens</th>\n",
       "      <th>Irakleion</th>\n",
       "      <th>Larisa</th>\n",
       "      <th>Patra</th>\n",
       "      <th>Thessaloniki</th>\n",
       "    </tr>\n",
       "  </thead>\n",
       "  <tbody>\n",
       "    <tr>\n",
       "      <th>0</th>\n",
       "      <td>1</td>\n",
       "      <td>0</td>\n",
       "      <td>0</td>\n",
       "      <td>0</td>\n",
       "      <td>0</td>\n",
       "    </tr>\n",
       "    <tr>\n",
       "      <th>1</th>\n",
       "      <td>1</td>\n",
       "      <td>0</td>\n",
       "      <td>0</td>\n",
       "      <td>0</td>\n",
       "      <td>0</td>\n",
       "    </tr>\n",
       "    <tr>\n",
       "      <th>2</th>\n",
       "      <td>1</td>\n",
       "      <td>0</td>\n",
       "      <td>0</td>\n",
       "      <td>0</td>\n",
       "      <td>0</td>\n",
       "    </tr>\n",
       "    <tr>\n",
       "      <th>3</th>\n",
       "      <td>1</td>\n",
       "      <td>0</td>\n",
       "      <td>0</td>\n",
       "      <td>0</td>\n",
       "      <td>0</td>\n",
       "    </tr>\n",
       "    <tr>\n",
       "      <th>4</th>\n",
       "      <td>1</td>\n",
       "      <td>0</td>\n",
       "      <td>0</td>\n",
       "      <td>0</td>\n",
       "      <td>0</td>\n",
       "    </tr>\n",
       "    <tr>\n",
       "      <th>5</th>\n",
       "      <td>1</td>\n",
       "      <td>0</td>\n",
       "      <td>0</td>\n",
       "      <td>0</td>\n",
       "      <td>0</td>\n",
       "    </tr>\n",
       "    <tr>\n",
       "      <th>6</th>\n",
       "      <td>1</td>\n",
       "      <td>0</td>\n",
       "      <td>0</td>\n",
       "      <td>0</td>\n",
       "      <td>0</td>\n",
       "    </tr>\n",
       "    <tr>\n",
       "      <th>7</th>\n",
       "      <td>1</td>\n",
       "      <td>0</td>\n",
       "      <td>0</td>\n",
       "      <td>0</td>\n",
       "      <td>0</td>\n",
       "    </tr>\n",
       "    <tr>\n",
       "      <th>8</th>\n",
       "      <td>1</td>\n",
       "      <td>0</td>\n",
       "      <td>0</td>\n",
       "      <td>0</td>\n",
       "      <td>0</td>\n",
       "    </tr>\n",
       "    <tr>\n",
       "      <th>9</th>\n",
       "      <td>1</td>\n",
       "      <td>0</td>\n",
       "      <td>0</td>\n",
       "      <td>0</td>\n",
       "      <td>0</td>\n",
       "    </tr>\n",
       "  </tbody>\n",
       "</table>\n",
       "</div>"
      ],
      "text/plain": [
       "   Athens  Irakleion  Larisa  Patra  Thessaloniki\n",
       "0       1          0       0      0             0\n",
       "1       1          0       0      0             0\n",
       "2       1          0       0      0             0\n",
       "3       1          0       0      0             0\n",
       "4       1          0       0      0             0\n",
       "5       1          0       0      0             0\n",
       "6       1          0       0      0             0\n",
       "7       1          0       0      0             0\n",
       "8       1          0       0      0             0\n",
       "9       1          0       0      0             0"
      ]
     },
     "execution_count": 166,
     "metadata": {},
     "output_type": "execute_result"
    }
   ],
   "source": [
    "df_city.head(10)"
   ]
  },
  {
   "cell_type": "code",
   "execution_count": 167,
   "id": "54ec2fc3",
   "metadata": {},
   "outputs": [
    {
     "data": {
      "text/html": [
       "<div>\n",
       "<style scoped>\n",
       "    .dataframe tbody tr th:only-of-type {\n",
       "        vertical-align: middle;\n",
       "    }\n",
       "\n",
       "    .dataframe tbody tr th {\n",
       "        vertical-align: top;\n",
       "    }\n",
       "\n",
       "    .dataframe thead th {\n",
       "        text-align: right;\n",
       "    }\n",
       "</style>\n",
       "<table border=\"1\" class=\"dataframe\">\n",
       "  <thead>\n",
       "    <tr style=\"text-align: right;\">\n",
       "      <th></th>\n",
       "      <th>shop_1</th>\n",
       "      <th>shop_2</th>\n",
       "      <th>shop_3</th>\n",
       "      <th>shop_4</th>\n",
       "      <th>shop_5</th>\n",
       "      <th>shop_6</th>\n",
       "    </tr>\n",
       "  </thead>\n",
       "  <tbody>\n",
       "    <tr>\n",
       "      <th>0</th>\n",
       "      <td>1</td>\n",
       "      <td>0</td>\n",
       "      <td>0</td>\n",
       "      <td>0</td>\n",
       "      <td>0</td>\n",
       "      <td>0</td>\n",
       "    </tr>\n",
       "    <tr>\n",
       "      <th>1</th>\n",
       "      <td>1</td>\n",
       "      <td>0</td>\n",
       "      <td>0</td>\n",
       "      <td>0</td>\n",
       "      <td>0</td>\n",
       "      <td>0</td>\n",
       "    </tr>\n",
       "    <tr>\n",
       "      <th>2</th>\n",
       "      <td>1</td>\n",
       "      <td>0</td>\n",
       "      <td>0</td>\n",
       "      <td>0</td>\n",
       "      <td>0</td>\n",
       "      <td>0</td>\n",
       "    </tr>\n",
       "    <tr>\n",
       "      <th>3</th>\n",
       "      <td>1</td>\n",
       "      <td>0</td>\n",
       "      <td>0</td>\n",
       "      <td>0</td>\n",
       "      <td>0</td>\n",
       "      <td>0</td>\n",
       "    </tr>\n",
       "    <tr>\n",
       "      <th>4</th>\n",
       "      <td>1</td>\n",
       "      <td>0</td>\n",
       "      <td>0</td>\n",
       "      <td>0</td>\n",
       "      <td>0</td>\n",
       "      <td>0</td>\n",
       "    </tr>\n",
       "    <tr>\n",
       "      <th>5</th>\n",
       "      <td>1</td>\n",
       "      <td>0</td>\n",
       "      <td>0</td>\n",
       "      <td>0</td>\n",
       "      <td>0</td>\n",
       "      <td>0</td>\n",
       "    </tr>\n",
       "    <tr>\n",
       "      <th>6</th>\n",
       "      <td>1</td>\n",
       "      <td>0</td>\n",
       "      <td>0</td>\n",
       "      <td>0</td>\n",
       "      <td>0</td>\n",
       "      <td>0</td>\n",
       "    </tr>\n",
       "    <tr>\n",
       "      <th>7</th>\n",
       "      <td>1</td>\n",
       "      <td>0</td>\n",
       "      <td>0</td>\n",
       "      <td>0</td>\n",
       "      <td>0</td>\n",
       "      <td>0</td>\n",
       "    </tr>\n",
       "    <tr>\n",
       "      <th>8</th>\n",
       "      <td>1</td>\n",
       "      <td>0</td>\n",
       "      <td>0</td>\n",
       "      <td>0</td>\n",
       "      <td>0</td>\n",
       "      <td>0</td>\n",
       "    </tr>\n",
       "    <tr>\n",
       "      <th>9</th>\n",
       "      <td>1</td>\n",
       "      <td>0</td>\n",
       "      <td>0</td>\n",
       "      <td>0</td>\n",
       "      <td>0</td>\n",
       "      <td>0</td>\n",
       "    </tr>\n",
       "  </tbody>\n",
       "</table>\n",
       "</div>"
      ],
      "text/plain": [
       "   shop_1  shop_2  shop_3  shop_4  shop_5  shop_6\n",
       "0       1       0       0       0       0       0\n",
       "1       1       0       0       0       0       0\n",
       "2       1       0       0       0       0       0\n",
       "3       1       0       0       0       0       0\n",
       "4       1       0       0       0       0       0\n",
       "5       1       0       0       0       0       0\n",
       "6       1       0       0       0       0       0\n",
       "7       1       0       0       0       0       0\n",
       "8       1       0       0       0       0       0\n",
       "9       1       0       0       0       0       0"
      ]
     },
     "execution_count": 167,
     "metadata": {},
     "output_type": "execute_result"
    }
   ],
   "source": [
    "df_shop.head(10)"
   ]
  },
  {
   "cell_type": "code",
   "execution_count": 168,
   "id": "7b74094f",
   "metadata": {},
   "outputs": [],
   "source": [
    "import logging\n",
    "\n",
    "class CustomTimeSeriesSplit:\n",
    "\n",
    "    def __init__(self,\n",
    "                 train_set_size: int,\n",
    "                 test_set_size: int\n",
    "                 ):\n",
    "        \"\"\"\n",
    "        :param train_set_size: data points (days) in each fold for the train set\n",
    "        :param test_set_size: data points (days) in each fold for the test set\n",
    "        \"\"\"\n",
    "        self.train_set_size = train_set_size\n",
    "        self.test_set_size = test_set_size\n",
    "        self._logger = logging.getLogger(__name__)\n",
    "\n",
    "    def split(self,\n",
    "              x: np.array,\n",
    "              y: np.array = None) -> (np.array, np.array):\n",
    "        \"\"\"Return train/test split indices.\n",
    "        :param x: time series to use for prediction, shape (n_samples, n_features)\n",
    "        :param y: time series to predict, shape (n_samples, n_features)\n",
    "        :return: (train_indices, test_indices)\n",
    "        Note: index of both x and y should be of type datetime.\n",
    "        \"\"\"\n",
    "        if y is not None:\n",
    "            assert x.index.equals(y.index)\n",
    "        split_points = self.get_split_points(x)\n",
    "        for split_point in split_points:\n",
    "            is_train = (x.index < split_point) & (x.index >= split_point -\n",
    "                                                  pd.Timedelta(self.train_set_size, unit='D'))\n",
    "            is_test = (x.index >= split_point) & (x.index < split_point +\n",
    "                                                  pd.Timedelta(self.test_set_size, unit='D'))\n",
    "            if not is_train.any() or not is_test.any():\n",
    "                self._logger.warning('Found %d train and %d test observations '\n",
    "                                     'skipping fold for split point %s',\n",
    "                                     is_train.sum(), is_test.sum(), split_point)\n",
    "                continue\n",
    "            dummy_ix = pd.Series(range(0, len(x)), index=x.index)\n",
    "            ix_train = dummy_ix.loc[is_train].values\n",
    "            ix_test = dummy_ix.loc[is_test].values\n",
    "            if ix_train is None or ix_test is None:\n",
    "                self._logger.warning('Found no data for train or test period, '\n",
    "                                     'skipping fold for split date %s',\n",
    "                                     split_point)\n",
    "                continue\n",
    "            yield ix_train, ix_test\n",
    "\n",
    "    def get_split_points(self, x: np.array) -> pd.DatetimeIndex:\n",
    "        \"\"\"Get all possible split point dates\"\"\"\n",
    "        start = x.index.min() + pd.Timedelta(self.train_set_size, unit='D')\n",
    "        end = x.index.max() - pd.Timedelta(self.test_set_size - 1, unit='D')\n",
    "        self._logger.info(f'Generating split points from {start} to {end}')\n",
    "        split_range = pd.date_range(start, end, freq='D')\n",
    "        first_split_point =  (len(split_range) + self.test_set_size - 1) % self.test_set_size\n",
    "        return split_range[first_split_point::self.test_set_size]"
   ]
  },
  {
   "cell_type": "code",
   "execution_count": 169,
   "id": "6f0307eb",
   "metadata": {},
   "outputs": [
    {
     "name": "stdout",
     "output_type": "stream",
     "text": [
      "The autoreload extension is already loaded. To reload it, use:\n",
      "  %reload_ext autoreload\n"
     ]
    }
   ],
   "source": [
    "%load_ext autoreload\n",
    "%autoreload 2\n",
    "\n",
    "import datetime as dt\n",
    "\n",
    "import matplotlib.pyplot as plt\n",
    "import numpy as np\n",
    "import pandas as pd\n",
    "import seaborn as sns\n",
    "from sklearn.linear_model import ElasticNet\n",
    "from sklearn.model_selection import GridSearchCV\n",
    "from sklearn.pipeline import Pipeline\n",
    "from sklearn.preprocessing import StandardScaler\n",
    "from sklearn.svm import SVR"
   ]
  },
  {
   "cell_type": "code",
   "execution_count": 170,
   "id": "7d77dd04",
   "metadata": {},
   "outputs": [
    {
     "name": "stderr",
     "output_type": "stream",
     "text": [
      "No handles with labels found to put in legend.\n"
     ]
    },
    {
     "data": {
      "image/png": "[encoded data removed]",
      "text/plain": [
       "<Figure size 432x288 with 1 Axes>"
      ]
     },
     "metadata": {
      "needs_background": "light"
     },
     "output_type": "display_data"
    }
   ],
   "source": [
    "number_of_data_points = 200\n",
    "columns = ['car usage', 'train usage', 'taxi usage']\n",
    "date_index = pd.date_range(dt.datetime(2018,1,1), \n",
    "                           periods=number_of_data_points, \n",
    "                           freq='D')\n",
    "x = pd.DataFrame(np.random.rand(number_of_data_points, len(columns))*999,\n",
    "                 columns=columns,\n",
    "                 index=date_index)\n",
    "y = pd.Series(x.sum(axis=1) * .75 + np.random.randn(number_of_data_points)*100, name='travelers at the gate')\n",
    "\n",
    "fig, ax = plt.subplots(1, 1)\n",
    "for col in columns:\n",
    "    ax.plot(x[col], alpha=.5)\n",
    "ax.plot(y)\n",
    "ax.legend()\n",
    "plt.xticks(rotation=45);"
   ]
  },
  {
   "cell_type": "code",
   "execution_count": 171,
   "id": "341f14e3",
   "metadata": {},
   "outputs": [],
   "source": [
    "outer_train_set_size = 28\n",
    "outer_test_set_size = 7\n",
    "\n",
    "inner_train_set_size = 14\n",
    "inner_test_set_size = 7\n",
    "\n",
    "outer_loop_splitter = CustomTimeSeriesSplit(\n",
    "    train_set_size=outer_train_set_size,\n",
    "    test_set_size=outer_test_set_size)\n",
    "\n",
    "inner_loop_splitter = CustomTimeSeriesSplit(\n",
    "    train_set_size=inner_train_set_size,\n",
    "    test_set_size=inner_test_set_size)"
   ]
  },
  {
   "cell_type": "code",
   "execution_count": 172,
   "id": "ca0cc9f0",
   "metadata": {},
   "outputs": [
    {
     "data": {
      "text/html": [
       "<div>\n",
       "<style scoped>\n",
       "    .dataframe tbody tr th:only-of-type {\n",
       "        vertical-align: middle;\n",
       "    }\n",
       "\n",
       "    .dataframe tbody tr th {\n",
       "        vertical-align: top;\n",
       "    }\n",
       "\n",
       "    .dataframe thead th {\n",
       "        text-align: right;\n",
       "    }\n",
       "</style>\n",
       "<table border=\"1\" class=\"dataframe\">\n",
       "  <thead>\n",
       "    <tr style=\"text-align: right;\">\n",
       "      <th></th>\n",
       "      <th>param_grid</th>\n",
       "      <th>pipeline</th>\n",
       "      <th>scores_cv_inner</th>\n",
       "      <th>scores_cv_outer</th>\n",
       "    </tr>\n",
       "  </thead>\n",
       "  <tbody>\n",
       "    <tr>\n",
       "      <th>SVR</th>\n",
       "      <td>[{'model__kernel': ['rbf'], 'model__C': [0.000...</td>\n",
       "      <td>(StandardScaler(), SVR())</td>\n",
       "      <td>[]</td>\n",
       "      <td>[]</td>\n",
       "    </tr>\n",
       "    <tr>\n",
       "      <th>ElasticNet</th>\n",
       "      <td>[{'model__l1_ratio': [0.1, 0.5, 0.7, 0.9, 0.95...</td>\n",
       "      <td>(StandardScaler(), ElasticNet())</td>\n",
       "      <td>[]</td>\n",
       "      <td>[]</td>\n",
       "    </tr>\n",
       "  </tbody>\n",
       "</table>\n",
       "</div>"
      ],
      "text/plain": [
       "                                                   param_grid  \\\n",
       "SVR         [{'model__kernel': ['rbf'], 'model__C': [0.000...   \n",
       "ElasticNet  [{'model__l1_ratio': [0.1, 0.5, 0.7, 0.9, 0.95...   \n",
       "\n",
       "                                    pipeline scores_cv_inner scores_cv_outer  \n",
       "SVR                (StandardScaler(), SVR())              []              []  \n",
       "ElasticNet  (StandardScaler(), ElasticNet())              []              []  "
      ]
     },
     "execution_count": 172,
     "metadata": {},
     "output_type": "execute_result"
    }
   ],
   "source": [
    "# Initialize models\n",
    "model_1 = SVR()\n",
    "model_2 = ElasticNet()\n",
    "\n",
    "# Initialize pipelines\n",
    "pipeline_1 = Pipeline([('scaling', StandardScaler()),\n",
    "                       ('model', model_1)])\n",
    "pipeline_2 = Pipeline([('scaling', StandardScaler()),\n",
    "                       ('model', model_2)])\n",
    "\n",
    "# Initialize hyperparameter grids\n",
    "param_grid_1 = [{'model__kernel': ['rbf'],\n",
    "                 'model__C': np.power(10., np.arange(-4, 4)),\n",
    "                 'model__gamma': np.power(10., np.arange(-5, 0))},\n",
    "                {'model__kernel': ['linear'],\n",
    "                 'model__C': np.power(10., np.arange(-4, 4))}]\n",
    "param_grid_2 = [{'model__l1_ratio': [.1, .5, .7, .9, .95, .99, 1],\n",
    "                 'model__alpha': [.1, .5, 1, 10, 100]}]\n",
    "\n",
    "# Make a DataFrame to save all algorithms and include columns to save the results\n",
    "algorithms = {\n",
    "        'param_grid': [param_grid_1, param_grid_2],                                            \n",
    "        'pipeline': [pipeline_1, pipeline_2],\n",
    "    }\n",
    "algorithm_names = ['SVR', 'ElasticNet']\n",
    "algorithms_and_results = pd.DataFrame(algorithms, index=algorithm_names)\n",
    "for column in ['scores_cv_inner', 'scores_cv_outer']:\n",
    "    algorithms_and_results[column] = [[] for _ in range(len(algorithm_names))]\n",
    "algorithms_and_results"
   ]
  },
  {
   "cell_type": "code",
   "execution_count": 173,
   "id": "ee5606b4",
   "metadata": {},
   "outputs": [
    {
     "data": {
      "text/html": [
       "<div>\n",
       "<style scoped>\n",
       "    .dataframe tbody tr th:only-of-type {\n",
       "        vertical-align: middle;\n",
       "    }\n",
       "\n",
       "    .dataframe tbody tr th {\n",
       "        vertical-align: top;\n",
       "    }\n",
       "\n",
       "    .dataframe thead th {\n",
       "        text-align: right;\n",
       "    }\n",
       "</style>\n",
       "<table border=\"1\" class=\"dataframe\">\n",
       "  <thead>\n",
       "    <tr style=\"text-align: right;\">\n",
       "      <th></th>\n",
       "      <th>param_grid</th>\n",
       "      <th>pipeline</th>\n",
       "      <th>scores_cv_inner</th>\n",
       "      <th>scores_cv_outer</th>\n",
       "    </tr>\n",
       "  </thead>\n",
       "  <tbody>\n",
       "    <tr>\n",
       "      <th>SVR</th>\n",
       "      <td>[{'model__kernel': ['rbf'], 'model__C': [0.000...</td>\n",
       "      <td>(StandardScaler(), SVR())</td>\n",
       "      <td>[0.7402501822793532, 0.7715005830505743, 0.818...</td>\n",
       "      <td>[0.6079716896871745, 0.9213789287572376, 0.972...</td>\n",
       "    </tr>\n",
       "    <tr>\n",
       "      <th>ElasticNet</th>\n",
       "      <td>[{'model__l1_ratio': [0.1, 0.5, 0.7, 0.9, 0.95...</td>\n",
       "      <td>(StandardScaler(), ElasticNet())</td>\n",
       "      <td>[0.7579005753574094, 0.8612190727442519, 0.885...</td>\n",
       "      <td>[0.7970108093601844, 0.9413737286179704, 0.973...</td>\n",
       "    </tr>\n",
       "  </tbody>\n",
       "</table>\n",
       "</div>"
      ],
      "text/plain": [
       "                                                   param_grid  \\\n",
       "SVR         [{'model__kernel': ['rbf'], 'model__C': [0.000...   \n",
       "ElasticNet  [{'model__l1_ratio': [0.1, 0.5, 0.7, 0.9, 0.95...   \n",
       "\n",
       "                                    pipeline  \\\n",
       "SVR                (StandardScaler(), SVR())   \n",
       "ElasticNet  (StandardScaler(), ElasticNet())   \n",
       "\n",
       "                                              scores_cv_inner  \\\n",
       "SVR         [0.7402501822793532, 0.7715005830505743, 0.818...   \n",
       "ElasticNet  [0.7579005753574094, 0.8612190727442519, 0.885...   \n",
       "\n",
       "                                              scores_cv_outer  \n",
       "SVR         [0.6079716896871745, 0.9213789287572376, 0.972...  \n",
       "ElasticNet  [0.7970108093601844, 0.9413737286179704, 0.973...  "
      ]
     },
     "execution_count": 173,
     "metadata": {},
     "output_type": "execute_result"
    }
   ],
   "source": [
    "for outer_train_idx, outer_test_idx in outer_loop_splitter.split(x, y):\n",
    "    x_train = x.iloc[outer_train_idx]\n",
    "    y_train = y.iloc[outer_train_idx]\n",
    "    x_test = x.iloc[outer_test_idx]\n",
    "    y_test = y.iloc[outer_test_idx]\n",
    "\n",
    "    # The grid search estimators need to be rebuild each outer fold, because the inner loop\n",
    "    # cross validation can only be defined given the train set from the outer loop.\n",
    "    grid_search_cv_estimators = {}\n",
    "    for (name, param_grid, pipeline) in algorithms_and_results[['param_grid', 'pipeline']].itertuples():\n",
    "        \n",
    "        # The inner loop for hyperparameter tuning\n",
    "        grid_search_cv_estimator = GridSearchCV(\n",
    "            estimator=pipeline,\n",
    "            param_grid=param_grid,\n",
    "            scoring='r2',\n",
    "            cv=inner_loop_splitter.split(x_train, y_train),\n",
    "            n_jobs=4,\n",
    "            refit=True)\n",
    "        grid_search_cv_estimator.fit(x_train, y_train)\n",
    "\n",
    "        outer_score = grid_search_cv_estimator.score(x_test, y_test)\n",
    "        algorithms_and_results.loc[name, 'scores_cv_inner'].append(grid_search_cv_estimator.best_score_)\n",
    "        algorithms_and_results.loc[name, 'scores_cv_outer'].append(outer_score)\n",
    "algorithms_and_results"
   ]
  },
  {
   "cell_type": "code",
   "execution_count": 174,
   "id": "77278b02",
   "metadata": {},
   "outputs": [
    {
     "data": {
      "text/html": [
       "<div>\n",
       "<style scoped>\n",
       "    .dataframe tbody tr th:only-of-type {\n",
       "        vertical-align: middle;\n",
       "    }\n",
       "\n",
       "    .dataframe tbody tr th {\n",
       "        vertical-align: top;\n",
       "    }\n",
       "\n",
       "    .dataframe thead th {\n",
       "        text-align: right;\n",
       "    }\n",
       "</style>\n",
       "<table border=\"1\" class=\"dataframe\">\n",
       "  <thead>\n",
       "    <tr style=\"text-align: right;\">\n",
       "      <th></th>\n",
       "      <th>SVR</th>\n",
       "      <th>ElasticNet</th>\n",
       "    </tr>\n",
       "  </thead>\n",
       "  <tbody>\n",
       "    <tr>\n",
       "      <th>param_grid</th>\n",
       "      <td>[{'model__kernel': ['rbf'], 'model__C': [0.000...</td>\n",
       "      <td>[{'model__l1_ratio': [0.1, 0.5, 0.7, 0.9, 0.95...</td>\n",
       "    </tr>\n",
       "    <tr>\n",
       "      <th>pipeline</th>\n",
       "      <td>(StandardScaler(), SVR())</td>\n",
       "      <td>(StandardScaler(), ElasticNet())</td>\n",
       "    </tr>\n",
       "    <tr>\n",
       "      <th>scores_cv_inner</th>\n",
       "      <td>[0.7402501822793532, 0.7715005830505743, 0.818...</td>\n",
       "      <td>[0.7579005753574094, 0.8612190727442519, 0.885...</td>\n",
       "    </tr>\n",
       "    <tr>\n",
       "      <th>scores_cv_outer</th>\n",
       "      <td>[0.6079716896871745, 0.9213789287572376, 0.972...</td>\n",
       "      <td>[0.7970108093601844, 0.9413737286179704, 0.973...</td>\n",
       "    </tr>\n",
       "    <tr>\n",
       "      <th>scores_cv_outer_mean</th>\n",
       "      <td>0.853401</td>\n",
       "      <td>0.874224</td>\n",
       "    </tr>\n",
       "    <tr>\n",
       "      <th>scores_cv_inner_mean</th>\n",
       "      <td>0.845996</td>\n",
       "      <td>0.868743</td>\n",
       "    </tr>\n",
       "    <tr>\n",
       "      <th>scores_cv_outer_median</th>\n",
       "      <td>0.918999</td>\n",
       "      <td>0.910013</td>\n",
       "    </tr>\n",
       "    <tr>\n",
       "      <th>scores_cv_inner_median</th>\n",
       "      <td>0.873641</td>\n",
       "      <td>0.903146</td>\n",
       "    </tr>\n",
       "    <tr>\n",
       "      <th>scores_cv_outer_std</th>\n",
       "      <td>0.160467</td>\n",
       "      <td>0.127714</td>\n",
       "    </tr>\n",
       "    <tr>\n",
       "      <th>scores_cv_inner_std</th>\n",
       "      <td>0.092824</td>\n",
       "      <td>0.095232</td>\n",
       "    </tr>\n",
       "  </tbody>\n",
       "</table>\n",
       "</div>"
      ],
      "text/plain": [
       "                                                                      SVR  \\\n",
       "param_grid              [{'model__kernel': ['rbf'], 'model__C': [0.000...   \n",
       "pipeline                                        (StandardScaler(), SVR())   \n",
       "scores_cv_inner         [0.7402501822793532, 0.7715005830505743, 0.818...   \n",
       "scores_cv_outer         [0.6079716896871745, 0.9213789287572376, 0.972...   \n",
       "scores_cv_outer_mean                                             0.853401   \n",
       "scores_cv_inner_mean                                             0.845996   \n",
       "scores_cv_outer_median                                           0.918999   \n",
       "scores_cv_inner_median                                           0.873641   \n",
       "scores_cv_outer_std                                              0.160467   \n",
       "scores_cv_inner_std                                              0.092824   \n",
       "\n",
       "                                                               ElasticNet  \n",
       "param_grid              [{'model__l1_ratio': [0.1, 0.5, 0.7, 0.9, 0.95...  \n",
       "pipeline                                 (StandardScaler(), ElasticNet())  \n",
       "scores_cv_inner         [0.7579005753574094, 0.8612190727442519, 0.885...  \n",
       "scores_cv_outer         [0.7970108093601844, 0.9413737286179704, 0.973...  \n",
       "scores_cv_outer_mean                                             0.874224  \n",
       "scores_cv_inner_mean                                             0.868743  \n",
       "scores_cv_outer_median                                           0.910013  \n",
       "scores_cv_inner_median                                           0.903146  \n",
       "scores_cv_outer_std                                              0.127714  \n",
       "scores_cv_inner_std                                              0.095232  "
      ]
     },
     "execution_count": 174,
     "metadata": {},
     "output_type": "execute_result"
    }
   ],
   "source": [
    "for agg_function in [np.mean, np.median, np.std]:\n",
    "    for column in ['scores_cv_outer', 'scores_cv_inner']:\n",
    "        aggregation_dict = {column + '_' + agg_function.__name__: lambda df: df[column].map(agg_function)}\n",
    "        algorithms_and_results = algorithms_and_results.assign(**aggregation_dict)\n",
    "algorithms_and_results.T"
   ]
  },
  {
   "cell_type": "code",
   "execution_count": 175,
   "id": "39f1475c",
   "metadata": {},
   "outputs": [
    {
     "name": "stdout",
     "output_type": "stream",
     "text": [
      "Choose best estimater: ElasticNet\n"
     ]
    }
   ],
   "source": [
    "best_algorithm_name = algorithms_and_results['scores_cv_outer_mean'].idxmax()\n",
    "best_pipeline = algorithms_and_results.loc[best_algorithm_name, 'pipeline']\n",
    "best_param_grid = algorithms_and_results.loc[best_algorithm_name, 'param_grid']\n",
    "print(f'Choose best estimater: {best_algorithm_name}')"
   ]
  },
  {
   "cell_type": "code",
   "execution_count": 176,
   "id": "e67b204c",
   "metadata": {},
   "outputs": [
    {
     "name": "stderr",
     "output_type": "stream",
     "text": [
      "C:\\ProgramData\\Anaconda3\\lib\\site-packages\\seaborn\\distributions.py:2619: FutureWarning: `distplot` is a deprecated function and will be removed in a future version. Please adapt your code to use either `displot` (a figure-level function with similar flexibility) or `histplot` (an axes-level function for histograms).\n",
      "  warnings.warn(msg, FutureWarning)\n"
     ]
    },
    {
     "data": {
      "image/png": "[encoded data removed]",
      "text/plain": [
       "<Figure size 432x288 with 1 Axes>"
      ]
     },
     "metadata": {
      "needs_background": "light"
     },
     "output_type": "display_data"
    }
   ],
   "source": [
    "scores, mean_score = algorithms_and_results.loc[best_algorithm_name, ['scores_cv_outer', 'scores_cv_outer_mean']]\n",
    "ax = sns.distplot(scores)\n",
    "ax.set_title(f'Expected score for {best_algorithm_name}')\n",
    "ax.axvline(mean_score, dashes=[6, 2], label=f'Mean score: {round(mean_score,2)}')\n",
    "ax.legend();"
   ]
  },
  {
   "cell_type": "code",
   "execution_count": 177,
   "id": "1f3f384c",
   "metadata": {},
   "outputs": [
    {
     "name": "stdout",
     "output_type": "stream",
     "text": [
      "Final hyperparameters: {'model__alpha': 0.1, 'model__l1_ratio': 0.5}\n"
     ]
    }
   ],
   "source": [
    "x_most_recent = x.iloc[-outer_train_set_size:]\n",
    "y_most_recent = y.iloc[-outer_train_set_size:]\n",
    "    \n",
    "grid_search_cv_estimator = GridSearchCV(\n",
    "    estimator=best_pipeline,\n",
    "    param_grid=best_param_grid,\n",
    "    scoring='r2',\n",
    "    cv=inner_loop_splitter.split(x_most_recent, y_most_recent),\n",
    "    n_jobs=4,\n",
    "    refit=True)\n",
    "grid_search_cv_estimator.fit(x_most_recent, y_most_recent)\n",
    "print(f'Final hyperparameters: {grid_search_cv_estimator.best_params_}')"
   ]
  }
 ],
 "metadata": {
  "kernelspec": {
   "display_name": "Python 3 (ipykernel)",
   "language": "python",
   "name": "python3"
  },
  "language_info": {
   "codemirror_mode": {
    "name": "ipython",
    "version": 3
   },
   "file_extension": ".py",
   "mimetype": "text/x-python",
   "name": "python",
   "nbconvert_exporter": "python",
   "pygments_lexer": "ipython3",
   "version": "3.9.7"
  }
 },
 "nbformat": 4,
 "nbformat_minor": 5
}
